{
 "cells": [
  {
   "cell_type": "code",
   "execution_count": null,
   "metadata": {
    "colab": {
     "base_uri": "https://localhost:8080/",
     "height": 54
    },
    "colab_type": "code",
    "id": "YcqCYCFnRr5h",
    "outputId": "a6154692-e54b-47fc-a412-0b952e4fa9e1"
   },
   "outputs": [],
   "source": [
    "from google.colab import drive\n",
    "drive.mount('/content/drive')"
   ]
  },
  {
   "cell_type": "code",
   "execution_count": null,
   "metadata": {
    "colab": {
     "base_uri": "https://localhost:8080/",
     "height": 70
    },
    "colab_type": "code",
    "id": "oKH2px2USAdL",
    "outputId": "c6117ed8-6991-4b6f-8e31-3090c58e6084"
   },
   "outputs": [],
   "source": [
    "import os\n",
    "import csv\n",
    "import copy\n",
    "import numpy as np\n",
    "import nltk\n",
    "import nltk.tokenize as tk\n",
    "import pandas as pd\n",
    "from sklearn.feature_extraction.text import CountVectorizer\n",
    "os.chdir('/content/drive/My Drive')\n",
    "nltk.download('punkt')"
   ]
  },
  {
   "cell_type": "markdown",
   "metadata": {
    "colab_type": "text",
    "id": "O33vdOX6KKio"
   },
   "source": [
    "Load data"
   ]
  },
  {
   "cell_type": "code",
   "execution_count": null,
   "metadata": {
    "colab": {},
    "colab_type": "code",
    "collapsed": true,
    "id": "sAOQrpBWSI7X"
   },
   "outputs": [],
   "source": [
    "# Read Set1 dataset，convert to list \n",
    "set_data = pd.read_csv(open(r'/content/drive/My Drive/TrainData/set1.txt', 'r'), sep='\\t')\n",
    "# Shuffle examples \n",
    "set_data = set_data.to_dict(orient='list')\n",
    "size = len(set_data['domain1_score'])\n",
    "df_spell_errors = pd.read_csv('/content/drive/My Drive/Handcrafted Features/spell_errors.txt', sep='\\t')"
   ]
  },
  {
   "cell_type": "markdown",
   "metadata": {
    "colab_type": "text",
    "id": "21NEtNhsKaDR"
   },
   "source": [
    "Initialize df_features"
   ]
  },
  {
   "cell_type": "code",
   "execution_count": null,
   "metadata": {
    "colab": {},
    "colab_type": "code",
    "collapsed": true,
    "id": "ooj5tJ5ujutA"
   },
   "outputs": [],
   "source": [
    "zero = [0] * size\n",
    "df_features = {'id': zero, 'word_avg_len': zero, 'word_var_len':zero, \n",
    "               'sent_avg_len': zero, 'sent_var_len': zero, 'essay_len_word': zero, \n",
    "               'essay_len_char': zero, 'label': zero}\n",
    "df_features  = pd.DataFrame(df_features)"
   ]
  },
  {
   "cell_type": "markdown",
   "metadata": {
    "colab_type": "text",
    "id": "XO8DxaDSKzkH"
   },
   "source": [
    "Handling some hand-crafted features：id, word length, sentence length, essay length etc."
   ]
  },
  {
   "cell_type": "code",
   "execution_count": null,
   "metadata": {
    "colab": {},
    "colab_type": "code",
    "collapsed": true,
    "id": "ds6BwxSdf-fS"
   },
   "outputs": [],
   "source": [
    "def vanilla_features(item):\n",
    "    global cnt, set_data\n",
    "    if cnt == 0:\n",
    "        cnt += 1\n",
    "        return item\n",
    "    sid = \"set1_\" + str(cnt-1)\n",
    "    essay = set_data['essay'][cnt-1]\n",
    "    words = tk.word_tokenize(essay)\n",
    "    sents = tk.sent_tokenize(essay)\n",
    "    sent_len = []\n",
    "    word_len = []\n",
    "  \n",
    "    for word in words:\n",
    "        word_len.append(len(word)) \n",
    "    for sent in sents:\n",
    "        sent_words = tk.word_tokenize(sent)\n",
    "        sent_len.append(len(sent_words))\n",
    "    \n",
    "    item['id'] = sid\n",
    "    item['label'] = set_data['domain1_score'][cnt-1]\n",
    "    item['essay_len_word'] = len(words)\n",
    "    item['essay_len_char'] = len(essay)\n",
    "    item['word_avg_len'] = sum(word_len) / len(word_len)\n",
    "    item['word_var_len'] = max(word_len) - min(word_len)\n",
    "    item['sent_avg_len'] = sum(sent_len) / len(sent_len)\n",
    "    item['sent_var_len'] = max(sent_len) - min(sent_len)\n",
    "    cnt += 1\n",
    "  \n",
    "    return item"
   ]
  },
  {
   "cell_type": "code",
   "execution_count": null,
   "metadata": {
    "colab": {},
    "colab_type": "code",
    "collapsed": true,
    "id": "LMuQUWb8UAp0"
   },
   "outputs": [],
   "source": [
    "cnt = 0\n",
    "df_features = df_features.apply(lambda x: vanilla_features(x), axis=1)"
   ]
  },
  {
   "cell_type": "code",
   "execution_count": null,
   "metadata": {
    "colab": {
     "base_uri": "https://localhost:8080/",
     "height": 193
    },
    "colab_type": "code",
    "id": "5_FVZvWqoxaJ",
    "outputId": "c2ceb7c4-ff29-4ae8-aa12-e4ad52ba26ca"
   },
   "outputs": [],
   "source": [
    "df_features.head(n=4)"
   ]
  },
  {
   "cell_type": "markdown",
   "metadata": {
    "colab_type": "text",
    "id": "WaLdcyjCLH8M"
   },
   "source": [
    "Combined features with those generate from two dictionaries"
   ]
  },
  {
   "cell_type": "code",
   "execution_count": null,
   "metadata": {
    "colab": {},
    "colab_type": "code",
    "collapsed": true,
    "id": "TdXzwAFkqyK1"
   },
   "outputs": [],
   "source": [
    "df_features = pd.merge(df_features, df_spell_errors, how='outer', on='id')"
   ]
  },
  {
   "cell_type": "markdown",
   "metadata": {
    "colab_type": "text",
    "id": "thOfHE9pLaVn"
   },
   "source": [
    "Grammar errors：based on bigram and trigram"
   ]
  },
  {
   "cell_type": "code",
   "execution_count": null,
   "metadata": {
    "colab": {},
    "colab_type": "code",
    "collapsed": true,
    "id": "6bs_zAbQOpht"
   },
   "outputs": [],
   "source": [
    "vec_2 = CountVectorizer(lowercase=True, ngram_range=(2,2), min_df=1)\n",
    "vec_3 = CountVectorizer(lowercase=True, ngram_range=(3,3), min_df=1)"
   ]
  },
  {
   "cell_type": "code",
   "execution_count": null,
   "metadata": {
    "colab": {},
    "colab_type": "code",
    "collapsed": true,
    "id": "2nueOPHEPZ5G"
   },
   "outputs": [],
   "source": [
    "vec2_fit = vec_2.fit_transform(set_data['essay'])\n",
    "vec3_fit = vec_3.fit_transform(set_data['essay'])"
   ]
  },
  {
   "cell_type": "code",
   "execution_count": null,
   "metadata": {
    "colab": {},
    "colab_type": "code",
    "collapsed": true,
    "id": "3nB9l-GhS9mU"
   },
   "outputs": [],
   "source": [
    "vec2_array = vec2_fit.toarray()\n",
    "vec3_array = vec3_fit.toarray()"
   ]
  },
  {
   "cell_type": "code",
   "execution_count": null,
   "metadata": {
    "colab": {},
    "colab_type": "code",
    "collapsed": true,
    "id": "Rqq2UiFMKILi"
   },
   "outputs": [],
   "source": [
    "vec2_sum = np.sum(vec2_array, axis=0)\n",
    "vec3_sum = np.sum(vec3_array, axis=0)"
   ]
  },
  {
   "cell_type": "code",
   "execution_count": null,
   "metadata": {
    "colab": {
     "base_uri": "https://localhost:8080/",
     "height": 34
    },
    "colab_type": "code",
    "id": "B-XiyjmWLCVo",
    "outputId": "0610cda4-6163-4ccc-dc3c-8eaf60b6c259"
   },
   "outputs": [],
   "source": [
    "np.array([1,0,3]) / np.array([1,2,1])"
   ]
  },
  {
   "cell_type": "code",
   "execution_count": null,
   "metadata": {
    "colab": {},
    "colab_type": "code",
    "collapsed": true,
    "id": "5p4kWe5zFJBs"
   },
   "outputs": [],
   "source": [
    "df_grammar = {'id': ['0']*size, 'bigram_word': [0]*size, 'trigram_word': [0]*size}\n",
    "df_grammar  = pd.DataFrame(df_grammar)"
   ]
  },
  {
   "cell_type": "code",
   "execution_count": null,
   "metadata": {
    "colab": {},
    "colab_type": "code",
    "collapsed": true,
    "id": "VAclo28bZF8-"
   },
   "outputs": [],
   "source": [
    "for i in range(size):\n",
    "    # each wornd in an essay \n",
    "    essay_array2 = vec2_array[i]\n",
    "    essay_array3 = vec3_array[i]\n",
    "    # Calculate tf/TF\n",
    "    # 越高则越可能是个语法错误\n",
    "    essay_array2 = essay_array2 / vec2_sum\n",
    "    essay_array2 = sum(essay_array2)\n",
    "    essay_array3 = essay_array3 / vec3_sum\n",
    "    essay_array3 = sum(essay_array3)\n",
    "    df_grammar.iloc[i, 0] = \"set1_\" + str(i)\n",
    "    df_grammar.iloc[i, 1] = essay_array2\n",
    "    df_grammar.iloc[i, 2] = essay_array3\n",
    "  "
   ]
  },
  {
   "cell_type": "code",
   "execution_count": null,
   "metadata": {
    "colab": {},
    "colab_type": "code",
    "collapsed": true,
    "id": "v7jWXNxqN8fS"
   },
   "outputs": [],
   "source": [
    "df_features = pd.merge(df_features, df_grammar, how='outer', on='id')"
   ]
  },
  {
   "cell_type": "code",
   "execution_count": null,
   "metadata": {
    "colab": {
     "base_uri": "https://localhost:8080/",
     "height": 224
    },
    "colab_type": "code",
    "id": "z_QIMBHdOsMH",
    "outputId": "6a7c1b7e-da29-46ed-998a-72ae32149d9e"
   },
   "outputs": [],
   "source": [
    "df_features.head()"
   ]
  }
 ],
 "metadata": {
  "accelerator": "GPU",
  "colab": {
   "name": "Handcrafted Features.ipynb",
   "provenance": []
  },
  "kernelspec": {
   "display_name": "Python 3",
   "language": "python",
   "name": "python3"
  },
  "language_info": {
   "codemirror_mode": {
    "name": "ipython",
    "version": 3
   },
   "file_extension": ".py",
   "mimetype": "text/x-python",
   "name": "python",
   "nbconvert_exporter": "python",
   "pygments_lexer": "ipython3",
   "version": "3.6.3"
  }
 },
 "nbformat": 4,
 "nbformat_minor": 1
}
